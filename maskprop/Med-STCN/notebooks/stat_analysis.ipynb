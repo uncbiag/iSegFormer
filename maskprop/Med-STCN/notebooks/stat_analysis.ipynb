{
 "cells": [
  {
   "cell_type": "code",
   "execution_count": 2,
   "metadata": {},
   "outputs": [
    {
     "name": "stdout",
     "output_type": "stream",
     "text": [
      "1 Ttest_indResult(statistic=0.6541077536988538, pvalue=0.5149723654885898)\n",
      "baseline:  0.8072375 0.07053217240203227\n",
      "a:  0.9178124999999998 0.03738844866733574\n",
      "b:  0.9121124999999999 0.03954277549376118\n",
      "2 Ttest_indResult(statistic=0.07376432346618951, pvalue=0.9413867694092906)\n",
      "baseline:  0.9132874999999998 0.02729008233314807\n",
      "a:  0.9147124999999999 0.032044478366014956\n",
      "b:  0.914175 0.03230954773747227\n",
      "3 Ttest_indResult(statistic=-0.23821466483975337, pvalue=0.8123392991940137)\n",
      "baseline:  0.8590375 0.06549078060116553\n",
      "a:  0.9264874999999997 0.0578524510608669\n",
      "b:  0.9296125 0.05800619444292135\n",
      "4 Ttest_indResult(statistic=-0.5884094428755458, pvalue=0.5579938191601861)\n",
      "baseline:  0.45237499999999997 0.1214952030946078\n",
      "a:  0.5324375 0.15969542054720917\n",
      "b:  0.5523125 0.13781594100012523\n",
      "5 Ttest_indResult(statistic=0.8301351150419851, pvalue=0.41083176381486464)\n",
      "baseline:  0.6303875 0.1481299044546711\n",
      "a:  0.9411125000000002 0.016605529011446758\n",
      "b:  0.9329625000000001 0.05901984703258728\n",
      "6 Ttest_indResult(statistic=-1.134707116756544, pvalue=0.2601822799765609)\n",
      "baseline:  0.48453749999999995 0.2684035065787144\n",
      "a:  0.7465625 0.27283562330412425\n",
      "b:  0.809375 0.2122889172213189\n",
      "7 Ttest_indResult(statistic=0.0295844932414486, pvalue=0.9764741513363466)\n",
      "baseline:  0.6865624999999999 0.12751995860942708\n",
      "a:  0.791225 0.09664237877349667\n",
      "b:  0.7905624999999998 0.10108172358913356\n",
      "8 Ttest_indResult(statistic=-0.12191869837212092, pvalue=0.90327739643981)\n",
      "baseline:  0.7955750000000001 0.09814603596172389\n",
      "a:  0.8523249999999999 0.08621691756842156\n",
      "b:  0.8546625000000002 0.08308199169344703\n",
      "9 Ttest_indResult(statistic=-1.8149812530521185, pvalue=0.07337840926175011)\n",
      "baseline:  0.3578625000000001 0.14920049377850597\n",
      "a:  0.43248749999999986 0.2580205294036697\n",
      "b:  0.5409624999999999 0.2696934460526432\n",
      "10 Ttest_indResult(statistic=-1.0815185080143273, pvalue=0.2828006274000572)\n",
      "baseline:  0.6193875 0.16798974996632976\n",
      "a:  0.5624500000000001 0.17917748882044307\n",
      "b:  0.6058500000000001 0.17520791934156402\n",
      "11 Ttest_indResult(statistic=-0.9256301533511654, pvalue=0.3575066163898106)\n",
      "baseline:  0.63675 0.11861386934081529\n",
      "a:  0.6360750000000003 0.14646017163379266\n",
      "b:  0.6657749999999999 0.1367515516365354\n",
      "12 Ttest_indResult(statistic=-0.32958390396316534, pvalue=0.7425981682744042)\n",
      "baseline:  0.6933874999999998 0.11463340958791203\n",
      "a:  0.7108875 0.11025751037344349\n",
      "b:  0.7190375 0.1081251813582294\n"
     ]
    }
   ],
   "source": [
    "import numpy as np\n",
    "import pandas as pd\n",
    "from scipy import stats\n",
    "\n",
    "for label in range(1, 13):\n",
    "    file_root = '/playpen-raid2/qinliu/projects/iSegFormer/maskprop/Med-STCN/results'\n",
    "    file_0 = f'{file_root}/stcn/label_{label}/label_{label}_per.csv'\n",
    "    file_a = f'{file_root}/stcn_med_abdomen1k_Aug01_15.34.08_ft_s012_10k_no_cc/label_{label}/label_{label}_per.csv'\n",
    "    file_b = f'{file_root}/stcn_med_abdomen1k_Aug01_22.03.33_ft_s012_10k_cc/label_{label}/label_{label}_per.csv'\n",
    "\n",
    "    df_0 = pd.read_csv(file_0)\n",
    "    df_a = pd.read_csv(file_a)\n",
    "    df_b = pd.read_csv(file_b)\n",
    "\n",
    "    baseline_jf_mean = (df_0['J-Mean'] + df_0['F-Mean']) / 2.0\n",
    "    a_jf_mean = (df_a['J-Mean'] + df_a['F-Mean']) / 2.0\n",
    "    b_jf_mean = (df_b['J-Mean'] + df_b['F-Mean']) / 2.0\n",
    "\n",
    "\n",
    "    pvalue = stats.ttest_ind(a_jf_mean, b_jf_mean, equal_var=False)\n",
    "    mean_baseline, std_baseline = np.mean(baseline_jf_mean), np.std(baseline_jf_mean)\n",
    "    mean_a, std_a = np.mean(a_jf_mean), np.std(a_jf_mean)\n",
    "    mean_b, std_b = np.mean(b_jf_mean), np.std(b_jf_mean)\n",
    "\n",
    "    print(label, pvalue)\n",
    "    print('baseline: ', mean_baseline, std_baseline)\n",
    "    print('a: ', mean_a, std_a)\n",
    "    print('b: ', mean_b, std_b)\n"
   ]
  },
  {
   "cell_type": "code",
   "execution_count": null,
   "metadata": {},
   "outputs": [],
   "source": [
    "import pandas as pd\n",
    "from scipy import stats\n",
    "\n",
    "for label in range(1, 13):\n",
    "    file_root = '/playpen-raid2/qinliu/projects/iSegFormer/maskprop/Med-STCN/results'\n",
    "    file_a = f'{file_root}/stcn_med_abdomen1k_Aug01_15.34.08_ft_s012_10k_no_cc/label_{label}/label_{label}_per.csv'\n",
    "    file_b = f'{file_root}/stcn_med_abdomen1k_Aug01_22.03.33_ft_s012_10k_cc/label_{label}/label_{label}_per.csv'\n",
    "\n",
    "    df_a = pd.read_csv(file_a)\n",
    "    df_b = pd.read_csv(file_b)\n",
    "\n",
    "    a_jf_mean = (df_a['J-Mean'] + df_a['F-Mean']) / 2.0\n",
    "    b_jf_mean = (df_b['J-Mean'] + df_b['F-Mean']) / 2.0\n",
    "\n",
    "\n",
    "    pvalue = stats.ttest_ind(a_jf_mean, b_jf_mean, equal_var=False)\n",
    "    print(label, pvalue)"
   ]
  }
 ],
 "metadata": {
  "kernelspec": {
   "display_name": "base",
   "language": "python",
   "name": "python3"
  },
  "language_info": {
   "codemirror_mode": {
    "name": "ipython",
    "version": 3
   },
   "file_extension": ".py",
   "mimetype": "text/x-python",
   "name": "python",
   "nbconvert_exporter": "python",
   "pygments_lexer": "ipython3",
   "version": "3.8.8 (default, Apr 13 2021, 19:58:26) \n[GCC 7.3.0]"
  },
  "orig_nbformat": 4,
  "vscode": {
   "interpreter": {
    "hash": "e89c9d8a920cc6bbfac98998034c8a15ed2e75dae1678af787f4c4e38e5be518"
   }
  }
 },
 "nbformat": 4,
 "nbformat_minor": 2
}
