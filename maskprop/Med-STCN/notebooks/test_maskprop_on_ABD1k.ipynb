{
 "cells": [
  {
   "cell_type": "code",
   "execution_count": 2,
   "metadata": {},
   "outputs": [
    {
     "data": {
      "text/plain": [
       "<All keys matched successfully>"
      ]
     },
     "execution_count": 2,
     "metadata": {},
     "output_type": "execute_result"
    }
   ],
   "source": [
    "import sys\n",
    "sys.path.insert(0, '/playpen-raid2/qinliu/projects/iSegFormer')\n",
    "sys.path.insert(0, '/playpen-raid2/qinliu/projects/iSegFormer/maskprop')\n",
    "sys.path.insert(0, '/playpen-raid2/qinliu/projects/iSegFormer/maskprop/MiVOS')\n",
    "\n",
    "\n",
    "import numpy as np\n",
    "import os\n",
    "import SimpleITK as sitk\n",
    "import torch\n",
    "from maskprop.MiVOS.model.propagation.prop_net import PropagationNetwork\n",
    "from maskprop.MiVOS.model.fusion_net import FusionNet\n",
    "from maskprop.MiVOS.interact.interactive_utils import load_volume, images_to_torch\n",
    "from inference_core import InferenceCore\n",
    "\n",
    "model_folder = '/playpen-raid2/qinliu/projects/iSegFormer/maskprop/Med-STCN/saves'\n",
    "prop_model_path = os.path.join(model_folder, 'Aug01_22.03.33_retrain_s4_ft_from_med_10000.pth')\n",
    "fusion_model_path = os.path.join(model_folder, 'fusion_stcn.pth')\n",
    "\n",
    "# Load checkpoints\n",
    "prop_saved = torch.load(prop_model_path)\n",
    "prop_model = PropagationNetwork().cuda().eval()\n",
    "prop_model.load_state_dict(prop_saved)\n",
    "\n",
    "fusion_saved = torch.load(fusion_model_path)\n",
    "fusion_model = FusionNet().cuda().eval()\n",
    "fusion_model.load_state_dict(fusion_saved)"
   ]
  },
  {
   "cell_type": "code",
   "execution_count": 3,
   "metadata": {},
   "outputs": [],
   "source": [
    "def get_selected_mask(label, label_frame_idx, label_idx):\n",
    "    label_frame = label[label_frame_idx]\n",
    "\n",
    "    label_frame_fc = np.zeros_like(label_frame)\n",
    "    label_frame_fc[label_frame == label_idx] = 1\n",
    "\n",
    "    label_frame_bg = np.ones_like(label_frame)\n",
    "    label_frame_bg[label_frame_fc] = 0\n",
    "\n",
    "    label_frame = np.stack([label_frame_bg, label_frame_fc], axis=0)\n",
    "\n",
    "    return label_frame\n",
    "\n",
    "\n",
    "def mask_prop(processor, label, label_frame_idxes, label_idx):\n",
    "    current_mask = None\n",
    "    for label_frame_idx in label_frame_idxes:\n",
    "        label_frame = get_selected_mask(label, label_frame_idx, label_idx)\n",
    "        label_frame = torch.from_numpy(label_frame)\n",
    "        label_frame = torch.unsqueeze(label_frame, dim=1)\n",
    "        current_mask = processor.interact(label_frame, label_frame_idx)\n",
    "\n",
    "    return current_mask\n",
    "\n",
    "\n",
    "def metrics(gt, pred, ignored_idx, label_idx):\n",
    "    gt_ = np.copy(gt)\n",
    "    pred_ = np.copy(pred)\n",
    "\n",
    "    gt_[gt_ != label_idx] = 0\n",
    "    gt_[gt_ == label_idx] = 1\n",
    "\n",
    "    pred_[pred_ != label_idx] = 0\n",
    "    pred_[pred_ == label_idx] = 1\n",
    "\n",
    "    for idx in ignored_idx:\n",
    "        pred_[idx, :, :] = gt_[idx, :, :]\n",
    "\n",
    "    intersect = np.sum(np.logical_and(gt_, pred_))\n",
    "    union = np.sum(gt_) + np.sum(pred_)\n",
    "    dice = 2 * intersect / union\n",
    "    sen = intersect / np.sum(gt_)\n",
    "    ppv = intersect / np.sum(pred_)\n",
    "\n",
    "    return dice, sen, ppv"
   ]
  },
  {
   "cell_type": "code",
   "execution_count": 4,
   "metadata": {},
   "outputs": [
    {
     "name": "stdout",
     "output_type": "stream",
     "text": [
      "label 1: DSC: 0.9545882195054233 (0.026941315941833875)\n",
      "label 1: SEN: 0.9710432383842382 (0.010572612375934038)\n",
      "label 1: PPV: 0.9399559451997733 (0.048535453516696685)\n"
     ]
    },
    {
     "name": "stderr",
     "output_type": "stream",
     "text": [
      "/tmp/ipykernel_2695033/2529315129.py:43: RuntimeWarning: invalid value encountered in true_divide\n",
      "  ppv = intersect / np.sum(pred_)\n"
     ]
    },
    {
     "name": "stdout",
     "output_type": "stream",
     "text": [
      "label 2: DSC: 0.1902508018283256 (0.35551885669896016)\n",
      "label 2: SEN: 0.18662704525695234 (0.35307694940167456)\n",
      "label 2: PPV: nan (nan)\n",
      "label 3: DSC: 0.7940970098016753 (0.18400191117402911)\n",
      "label 3: SEN: 0.9583234662925456 (0.025942715654001063)\n",
      "label 3: PPV: 0.718019198541557 (0.24338945633648412)\n",
      "label 4: DSC: 0.007429484491687725 (0.04639711577972179)\n",
      "label 4: SEN: 0.012727872798928341 (0.0794855401531769)\n",
      "label 4: PPV: nan (nan)\n"
     ]
    },
    {
     "ename": "KeyboardInterrupt",
     "evalue": "",
     "output_type": "error",
     "traceback": [
      "\u001b[0;31m---------------------------------------------------------------------------\u001b[0m",
      "\u001b[0;31mKeyboardInterrupt\u001b[0m                         Traceback (most recent call last)",
      "\u001b[1;32m/playpen-raid2/qinliu/projects/iSegFormer/maskprop/Med-STCN/notebooks/test_maskprop_on_ABD1k.ipynb Cell 3\u001b[0m in \u001b[0;36m<module>\u001b[0;34m\u001b[0m\n\u001b[1;32m     <a href='vscode-notebook-cell://ssh-remote%2Bbiag-gpu6.cs.unc.edu/playpen-raid2/qinliu/projects/iSegFormer/maskprop/Med-STCN/notebooks/test_maskprop_on_ABD1k.ipynb#W6sdnNjb2RlLXJlbW90ZQ%3D%3D?line=13'>14</a>\u001b[0m \u001b[39mfor\u001b[39;00m idx, volume_name \u001b[39min\u001b[39;00m \u001b[39menumerate\u001b[39m(volume_names):\n\u001b[1;32m     <a href='vscode-notebook-cell://ssh-remote%2Bbiag-gpu6.cs.unc.edu/playpen-raid2/qinliu/projects/iSegFormer/maskprop/Med-STCN/notebooks/test_maskprop_on_ABD1k.ipynb#W6sdnNjb2RlLXJlbW90ZQ%3D%3D?line=14'>15</a>\u001b[0m     \u001b[39m# print(idx, volume_name)\u001b[39;00m\n\u001b[1;32m     <a href='vscode-notebook-cell://ssh-remote%2Bbiag-gpu6.cs.unc.edu/playpen-raid2/qinliu/projects/iSegFormer/maskprop/Med-STCN/notebooks/test_maskprop_on_ABD1k.ipynb#W6sdnNjb2RlLXJlbW90ZQ%3D%3D?line=16'>17</a>\u001b[0m     volume_path \u001b[39m=\u001b[39m os\u001b[39m.\u001b[39mpath\u001b[39m.\u001b[39mjoin(volume_folder, \u001b[39mf\u001b[39m\u001b[39m'\u001b[39m\u001b[39m{\u001b[39;00mvolume_name\u001b[39m}\u001b[39;00m\u001b[39m.nii.gz\u001b[39m\u001b[39m'\u001b[39m)\n\u001b[0;32m---> <a href='vscode-notebook-cell://ssh-remote%2Bbiag-gpu6.cs.unc.edu/playpen-raid2/qinliu/projects/iSegFormer/maskprop/Med-STCN/notebooks/test_maskprop_on_ABD1k.ipynb#W6sdnNjb2RlLXJlbW90ZQ%3D%3D?line=17'>18</a>\u001b[0m     images \u001b[39m=\u001b[39m load_volume(volume_path, normalize\u001b[39m=\u001b[39;49m\u001b[39mTrue\u001b[39;49;00m)\n\u001b[1;32m     <a href='vscode-notebook-cell://ssh-remote%2Bbiag-gpu6.cs.unc.edu/playpen-raid2/qinliu/projects/iSegFormer/maskprop/Med-STCN/notebooks/test_maskprop_on_ABD1k.ipynb#W6sdnNjb2RlLXJlbW90ZQ%3D%3D?line=19'>20</a>\u001b[0m     label_path \u001b[39m=\u001b[39m os\u001b[39m.\u001b[39mpath\u001b[39m.\u001b[39mjoin(mask_folder, \u001b[39mf\u001b[39m\u001b[39m'\u001b[39m\u001b[39m{\u001b[39;00mvolume_name\u001b[39m}\u001b[39;00m\u001b[39m.nii.gz\u001b[39m\u001b[39m'\u001b[39m)\n\u001b[1;32m     <a href='vscode-notebook-cell://ssh-remote%2Bbiag-gpu6.cs.unc.edu/playpen-raid2/qinliu/projects/iSegFormer/maskprop/Med-STCN/notebooks/test_maskprop_on_ABD1k.ipynb#W6sdnNjb2RlLXJlbW90ZQ%3D%3D?line=20'>21</a>\u001b[0m     label \u001b[39m=\u001b[39m load_volume(label_path, normalize\u001b[39m=\u001b[39m\u001b[39mFalse\u001b[39;00m)\n",
      "File \u001b[0;32m/playpen-raid2/qinliu/projects/iSegFormer/maskprop/MiVOS/interact/interactive_utils.py:54\u001b[0m, in \u001b[0;36mload_volume\u001b[0;34m(path, normalize, min_side)\u001b[0m\n\u001b[1;32m     52\u001b[0m \u001b[39mif\u001b[39;00m normalize:\n\u001b[1;32m     53\u001b[0m     image_npy_rgb \u001b[39m=\u001b[39m image_npy_rgb\u001b[39m.\u001b[39mastype(np\u001b[39m.\u001b[39mint32)\n\u001b[0;32m---> 54\u001b[0m     min_val \u001b[39m=\u001b[39m np\u001b[39m.\u001b[39;49mpercentile(image_npy_rgb, \u001b[39m0.1\u001b[39;49m)\n\u001b[1;32m     55\u001b[0m     max_val \u001b[39m=\u001b[39m \u001b[39mmax\u001b[39m(\u001b[39m1\u001b[39m, np\u001b[39m.\u001b[39mpercentile(image_npy_rgb, \u001b[39m99.9\u001b[39m))\n\u001b[1;32m     56\u001b[0m     \u001b[39m# print('Intensity range: [{}, {}]'.format(min_val, max_val))\u001b[39;00m\n",
      "File \u001b[0;32m<__array_function__ internals>:180\u001b[0m, in \u001b[0;36mpercentile\u001b[0;34m(*args, **kwargs)\u001b[0m\n",
      "File \u001b[0;32m~/.local/lib/python3.8/site-packages/numpy/lib/function_base.py:4134\u001b[0m, in \u001b[0;36mpercentile\u001b[0;34m(a, q, axis, out, overwrite_input, method, keepdims, interpolation)\u001b[0m\n\u001b[1;32m   4132\u001b[0m \u001b[39mif\u001b[39;00m \u001b[39mnot\u001b[39;00m _quantile_is_valid(q):\n\u001b[1;32m   4133\u001b[0m     \u001b[39mraise\u001b[39;00m \u001b[39mValueError\u001b[39;00m(\u001b[39m\"\u001b[39m\u001b[39mPercentiles must be in the range [0, 100]\u001b[39m\u001b[39m\"\u001b[39m)\n\u001b[0;32m-> 4134\u001b[0m \u001b[39mreturn\u001b[39;00m _quantile_unchecked(\n\u001b[1;32m   4135\u001b[0m     a, q, axis, out, overwrite_input, method, keepdims)\n",
      "File \u001b[0;32m~/.local/lib/python3.8/site-packages/numpy/lib/function_base.py:4383\u001b[0m, in \u001b[0;36m_quantile_unchecked\u001b[0;34m(a, q, axis, out, overwrite_input, method, keepdims)\u001b[0m\n\u001b[1;32m   4375\u001b[0m \u001b[39mdef\u001b[39;00m \u001b[39m_quantile_unchecked\u001b[39m(a,\n\u001b[1;32m   4376\u001b[0m                         q,\n\u001b[1;32m   4377\u001b[0m                         axis\u001b[39m=\u001b[39m\u001b[39mNone\u001b[39;00m,\n\u001b[0;32m   (...)\u001b[0m\n\u001b[1;32m   4380\u001b[0m                         method\u001b[39m=\u001b[39m\u001b[39m\"\u001b[39m\u001b[39mlinear\u001b[39m\u001b[39m\"\u001b[39m,\n\u001b[1;32m   4381\u001b[0m                         keepdims\u001b[39m=\u001b[39m\u001b[39mFalse\u001b[39;00m):\n\u001b[1;32m   4382\u001b[0m     \u001b[39m\"\"\"Assumes that q is in [0, 1], and is an ndarray\"\"\"\u001b[39;00m\n\u001b[0;32m-> 4383\u001b[0m     r, k \u001b[39m=\u001b[39m _ureduce(a,\n\u001b[1;32m   4384\u001b[0m                     func\u001b[39m=\u001b[39;49m_quantile_ureduce_func,\n\u001b[1;32m   4385\u001b[0m                     q\u001b[39m=\u001b[39;49mq,\n\u001b[1;32m   4386\u001b[0m                     axis\u001b[39m=\u001b[39;49maxis,\n\u001b[1;32m   4387\u001b[0m                     out\u001b[39m=\u001b[39;49mout,\n\u001b[1;32m   4388\u001b[0m                     overwrite_input\u001b[39m=\u001b[39;49moverwrite_input,\n\u001b[1;32m   4389\u001b[0m                     method\u001b[39m=\u001b[39;49mmethod)\n\u001b[1;32m   4390\u001b[0m     \u001b[39mif\u001b[39;00m keepdims:\n\u001b[1;32m   4391\u001b[0m         \u001b[39mreturn\u001b[39;00m r\u001b[39m.\u001b[39mreshape(q\u001b[39m.\u001b[39mshape \u001b[39m+\u001b[39m k)\n",
      "File \u001b[0;32m~/.local/lib/python3.8/site-packages/numpy/lib/function_base.py:3702\u001b[0m, in \u001b[0;36m_ureduce\u001b[0;34m(a, func, **kwargs)\u001b[0m\n\u001b[1;32m   3699\u001b[0m \u001b[39melse\u001b[39;00m:\n\u001b[1;32m   3700\u001b[0m     keepdim \u001b[39m=\u001b[39m (\u001b[39m1\u001b[39m,) \u001b[39m*\u001b[39m a\u001b[39m.\u001b[39mndim\n\u001b[0;32m-> 3702\u001b[0m r \u001b[39m=\u001b[39m func(a, \u001b[39m*\u001b[39;49m\u001b[39m*\u001b[39;49mkwargs)\n\u001b[1;32m   3703\u001b[0m \u001b[39mreturn\u001b[39;00m r, keepdim\n",
      "File \u001b[0;32m~/.local/lib/python3.8/site-packages/numpy/lib/function_base.py:4549\u001b[0m, in \u001b[0;36m_quantile_ureduce_func\u001b[0;34m(a, q, axis, out, overwrite_input, method)\u001b[0m\n\u001b[1;32m   4547\u001b[0m \u001b[39mif\u001b[39;00m axis \u001b[39mis\u001b[39;00m \u001b[39mNone\u001b[39;00m:\n\u001b[1;32m   4548\u001b[0m     axis \u001b[39m=\u001b[39m \u001b[39m0\u001b[39m\n\u001b[0;32m-> 4549\u001b[0m     arr \u001b[39m=\u001b[39m a\u001b[39m.\u001b[39;49mflatten()\n\u001b[1;32m   4550\u001b[0m \u001b[39melse\u001b[39;00m:\n\u001b[1;32m   4551\u001b[0m     arr \u001b[39m=\u001b[39m a\u001b[39m.\u001b[39mcopy()\n",
      "\u001b[0;31mKeyboardInterrupt\u001b[0m: "
     ]
    }
   ],
   "source": [
    "val_file = '/playpen-raid2/qinliu/data/AbdomenCT-1K/Organ-12-Subset_frames/trainval/ImageSets/val.txt'\n",
    "volume_names = []\n",
    "with open(val_file, \"r\") as lines:\n",
    "    for line in lines:\n",
    "        volume_names.append(line.rstrip('\\n'))\n",
    "\n",
    "volume_folder = '/playpen-raid2/qinliu/data/AbdomenCT-1K/Organ-12-Subset/Image'\n",
    "mask_folder = '/playpen-raid2/qinliu/data/AbdomenCT-1K/Organ-12-Subset/Mask'\n",
    "\n",
    "\n",
    "\n",
    "for label_idx in range(1, 13):\n",
    "    dices, sens, ppvs = [], [], []\n",
    "    for idx, volume_name in enumerate(volume_names):\n",
    "        # print(idx, volume_name)\n",
    "\n",
    "        volume_path = os.path.join(volume_folder, f'{volume_name}.nii.gz')\n",
    "        images = load_volume(volume_path, normalize=True)\n",
    "\n",
    "        label_path = os.path.join(mask_folder, f'{volume_name}.nii.gz')\n",
    "        label = load_volume(label_path, normalize=False)\n",
    "        if len(label.shape) == 4:\n",
    "            label = label[:, :, :, 0]\n",
    "\n",
    "        num_objects = 1\n",
    "        mem_freq = 5\n",
    "        mem_profile = 0\n",
    "\n",
    "        processor = InferenceCore(\n",
    "            prop_model, \n",
    "            fusion_model, \n",
    "            images_to_torch(images, device='cpu'), \n",
    "            num_objects, \n",
    "            mem_freq=mem_freq, \n",
    "            mem_profile=mem_profile\n",
    "        )\n",
    "\n",
    "\n",
    "        # # pick up the frame with the maximum area as the memory frame\n",
    "        max_area, max_area_idx = -1, label.shape[0] // 2\n",
    "        for i in range(label.shape[0]):\n",
    "            area = np.count_nonzero(label[i])\n",
    "            if area > max_area:\n",
    "                max_area = area\n",
    "                max_area_idx = i\n",
    "        \n",
    "        label_frame_idxes = [max_area_idx]\n",
    "        propagated_mask = mask_prop(processor, label, label_frame_idxes, label_idx)\n",
    "        propagated_mask[propagated_mask != 0] = label_idx\n",
    "\n",
    "        dice, sen, ppv = metrics(label, propagated_mask, label_frame_idxes, label_idx)\n",
    "        # print('dice: ', dice, ' sen: ', sen, ' ppv: ', ppv)\n",
    "        dices.append(dice)\n",
    "        sens.append(sen)\n",
    "        ppvs.append(ppv)\n",
    "\n",
    "        # # save the propagated mask\n",
    "        # mask_save_folder = '/playpen-raid2/qinliu/projects/iSegFormer/maskprop/MiVOS/test_results'\n",
    "        # mask = sitk.GetImageFromArray(propagated_mask)\n",
    "        # mask.CopyInformation(sitk.ReadImage(label_path))\n",
    "        # mask_save_path = os.path.join(mask_save_folder,\n",
    "        #     '{}_frames_{}.nii.gz'.format(volume_name, str(len(label_frame_idxes))))\n",
    "        # sitk.WriteImage(mask, mask_save_path)\n",
    "\n",
    "    print(f'label {label_idx}: DSC: {np.mean(dices)} ({np.std(dices)})')\n",
    "    print(f'label {label_idx}: SEN: {np.mean(sens)} ({np.std(sens)})')\n",
    "    print(f'label {label_idx}: PPV: {np.mean(ppvs)} ({np.std(ppvs)})')"
   ]
  }
 ],
 "metadata": {
  "kernelspec": {
   "display_name": "base",
   "language": "python",
   "name": "python3"
  },
  "language_info": {
   "codemirror_mode": {
    "name": "ipython",
    "version": 3
   },
   "file_extension": ".py",
   "mimetype": "text/x-python",
   "name": "python",
   "nbconvert_exporter": "python",
   "pygments_lexer": "ipython3",
   "version": "3.8.8"
  },
  "orig_nbformat": 4,
  "vscode": {
   "interpreter": {
    "hash": "e89c9d8a920cc6bbfac98998034c8a15ed2e75dae1678af787f4c4e38e5be518"
   }
  }
 },
 "nbformat": 4,
 "nbformat_minor": 2
}
