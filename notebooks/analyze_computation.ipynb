{
 "cells": [
  {
   "cell_type": "code",
   "execution_count": 2,
   "metadata": {},
   "outputs": [
    {
     "name": "stdout",
     "output_type": "stream",
     "text": [
      "[INFO] Register count_convNd() for <class 'torch.nn.modules.conv.Conv2d'>.\n",
      "[INFO] Register zero_ops() for <class 'torch.nn.modules.activation.ReLU'>.\n",
      "[INFO] Register zero_ops() for <class 'torch.nn.modules.container.Sequential'>.\n",
      "[INFO] Register count_normalization() for <class 'torch.nn.modules.normalization.LayerNorm'>.\n",
      "[INFO] Register zero_ops() for <class 'torch.nn.modules.dropout.Dropout'>.\n",
      "[INFO] Register count_linear() for <class 'torch.nn.modules.linear.Linear'>.\n",
      "[INFO] Register count_softmax() for <class 'torch.nn.modules.activation.Softmax'>.\n",
      "87.437M 138.210G\n",
      "[INFO] Register count_convNd() for <class 'torch.nn.modules.conv.Conv2d'>.\n",
      "[INFO] Register zero_ops() for <class 'torch.nn.modules.activation.ReLU'>.\n",
      "[INFO] Register zero_ops() for <class 'torch.nn.modules.container.Sequential'>.\n",
      "[INFO] Register count_normalization() for <class 'torch.nn.modules.normalization.LayerNorm'>.\n",
      "[INFO] Register zero_ops() for <class 'torch.nn.modules.dropout.Dropout'>.\n",
      "[INFO] Register count_linear() for <class 'torch.nn.modules.linear.Linear'>.\n",
      "[INFO] Register count_softmax() for <class 'torch.nn.modules.activation.Softmax'>.\n",
      "195.904M 302.777G\n"
     ]
    }
   ],
   "source": [
    "# Analysis for Swin-B and Swin-L\n",
    "from pathlib import Path\n",
    "import sys\n",
    "\n",
    "sys.path.append(str(Path(sys.path[0]).parent))\n",
    "\n",
    "from isegm.model.modeling.transformer_helper.cross_entropy_loss import CrossEntropyLoss\n",
    "from isegm.model.is_swinformer_model import SwinformerModel\n",
    "\n",
    "def params_swin_b(**kwargs):\n",
    "    backbone=dict(in_chans=3, in_coord_chans=3, embed_dim=128, depths=[2, 2, 18, 2], num_heads=[4, 8, 16, 32],\n",
    "        window_size=12, ape=False, drop_path_rate=0.3, patch_norm=True, use_checkpoint=False,)\n",
    "\n",
    "    head = dict(in_channels=[128, 256, 512, 1024], in_index=[0, 1, 2, 3], channels=256, dropout_ratio=0.1,\n",
    "        num_classes=1, loss_decode=CrossEntropyLoss(), align_corners=False,)\n",
    "\n",
    "    model = SwinformerModel(backbone_params=backbone, head_params=head, use_naive_concat=False, use_rgb_conv=False,\n",
    "        use_deep_fusion=True, use_disks=True,  norm_radius=5, with_prev_mask=True,)\n",
    "\n",
    "    return model \n",
    "\n",
    "\n",
    "def params_swin_l(**kwargs):\n",
    "    backbone=dict(in_chans=3, in_coord_chans=3, embed_dim=192, depths=[2, 2, 18, 2], num_heads=[6, 12, 24, 48],\n",
    "        window_size=12, ape=False, drop_path_rate=0.3, patch_norm=True, use_checkpoint=False,)\n",
    "\n",
    "    head = dict(in_channels=[192, 384, 768, 1536], in_index=[0, 1, 2, 3], channels=256, dropout_ratio=0.1,\n",
    "        num_classes=1, loss_decode=CrossEntropyLoss(), align_corners=False,)\n",
    "\n",
    "    model = SwinformerModel(backbone_params=backbone, head_params=head, use_naive_concat=False,\n",
    "        use_rgb_conv=False, use_deep_fusion=True, use_disks=True,  norm_radius=5, with_prev_mask=True,)\n",
    "\n",
    "    return model \n",
    "\n",
    "\n",
    "import torch\n",
    "from thop import profile\n",
    "from thop import clever_format\n",
    "\n",
    "\n",
    "input = torch.randn(1, 4, 400, 400)\n",
    "point = torch.randn(1, 2, 3)\n",
    "\n",
    "models = params_swin_b(), params_swin_l()\n",
    "for model in models:\n",
    "    model.eval()\n",
    "    macs, params = profile(model, inputs=(input, point))\n",
    "    gflops, params = clever_format([macs*2, params], \"%.3f\")\n",
    "\n",
    "    print(params, gflops)"
   ]
  }
 ],
 "metadata": {
  "kernelspec": {
   "display_name": "Python 3.8.8 ('base')",
   "language": "python",
   "name": "python3"
  },
  "language_info": {
   "codemirror_mode": {
    "name": "ipython",
    "version": 3
   },
   "file_extension": ".py",
   "mimetype": "text/x-python",
   "name": "python",
   "nbconvert_exporter": "python",
   "pygments_lexer": "ipython3",
   "version": "3.8.8"
  },
  "orig_nbformat": 4,
  "vscode": {
   "interpreter": {
    "hash": "e89c9d8a920cc6bbfac98998034c8a15ed2e75dae1678af787f4c4e38e5be518"
   }
  }
 },
 "nbformat": 4,
 "nbformat_minor": 2
}
