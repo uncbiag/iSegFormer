{
 "cells": [
  {
   "cell_type": "code",
   "execution_count": 1,
   "metadata": {},
   "outputs": [],
   "source": [
    "from pathlib import Path\n",
    "import sys\n",
    "\n",
    "sys.path.append(str(Path(sys.path[0]).parent))"
   ]
  },
  {
   "cell_type": "code",
   "execution_count": 26,
   "metadata": {},
   "outputs": [],
   "source": [
    "\n",
    "from isegm.model.is_plainvit_model import PlainVitModel\n",
    "from isegm.model.modeling.transformer_helper.cross_entropy_loss import CrossEntropyLoss\n",
    "\n",
    "\n",
    "embed_dim = 160\n",
    "neck_dims = [96, 192, 288, 384]\n",
    "\n",
    "def params_vit_tiny_448(**kwargs):\n",
    "\n",
    "    backbone_params = dict(img_size=(448, 448), patch_size=(16,16), in_chans=3,\n",
    "        embed_dim=embed_dim, depth=8, num_heads=4, mlp_ratio=4, qkv_bias=True,)\n",
    "\n",
    "    neck_params = dict(in_dim=embed_dim, out_dims=neck_dims,)\n",
    "\n",
    "    head_params = dict(in_channels=neck_dims, in_index=[0, 1, 2, 3],\n",
    "        dropout_ratio=0.1, num_classes=1, loss_decode=CrossEntropyLoss(),\n",
    "        align_corners=False, channels=128,)\n",
    "\n",
    "    return backbone_params, neck_params, head_params\n",
    "\n",
    "\n",
    "vith_backbone_params, vith_neck_params, vith_head_params = params_vit_tiny_448()\n",
    "model_vitt = PlainVitModel(use_disks=True, norm_radius=5, with_prev_mask=True, \n",
    "    backbone_params=vith_backbone_params, neck_params=vith_neck_params, \n",
    "    head_params=vith_head_params)"
   ]
  },
  {
   "cell_type": "code",
   "execution_count": 3,
   "metadata": {},
   "outputs": [
    {
     "name": "stdout",
     "output_type": "stream",
     "text": [
      "----\n",
      "13.6 M\n",
      "54.3 M\n",
      "38.7 M\n",
      "11.4 M\n",
      "3.6 M\n"
     ]
    }
   ],
   "source": [
    "def get_params_count(model):\n",
    "    return sum(param.numel() for param in model.parameters())\n",
    "\n",
    "for model in [model_vitt]:\n",
    "    print('----')\n",
    "    print('{:.1f} M'.format(get_params_count(model) / 1024 / 1024))\n",
    "    print('{:.1f} M'.format(get_params_count(model) * 4.0 / 1024 / 1024))\n",
    "    print('{:.1f} M'.format(get_params_count(model.backbone) * 4.0 / 1024 / 1024))\n",
    "    print('{:.1f} M'.format(get_params_count(model.neck) * 4.0 / 1024 / 1024))\n",
    "    print('{:.1f} M'.format(get_params_count(model.head) * 4.0 / 1024 / 1024))"
   ]
  },
  {
   "cell_type": "code",
   "execution_count": 27,
   "metadata": {},
   "outputs": [
    {
     "name": "stdout",
     "output_type": "stream",
     "text": [
      "[INFO] Register count_convNd() for <class 'torch.nn.modules.conv.Conv2d'>.\n",
      "[INFO] Register zero_ops() for <class 'torch.nn.modules.dropout.Dropout'>.\n",
      "[INFO] Register count_normalization() for <class 'torch.nn.modules.normalization.LayerNorm'>.\n",
      "[INFO] Register count_linear() for <class 'torch.nn.modules.linear.Linear'>.\n",
      "[INFO] Register zero_ops() for <class 'torch.nn.modules.container.Sequential'>.\n",
      "[INFO] Register count_convNd() for <class 'torch.nn.modules.conv.ConvTranspose2d'>.\n",
      "[INFO] Register zero_ops() for <class 'torch.nn.modules.activation.ReLU'>.\n",
      "10.52171G 3.71619M\n",
      "[INFO] Register count_convNd() for <class 'torch.nn.modules.conv.Conv2d'>.\n",
      "[INFO] Register zero_ops() for <class 'torch.nn.modules.dropout.Dropout'>.\n",
      "[INFO] Register count_normalization() for <class 'torch.nn.modules.normalization.LayerNorm'>.\n",
      "[INFO] Register count_linear() for <class 'torch.nn.modules.linear.Linear'>.\n",
      "[INFO] Register zero_ops() for <class 'torch.nn.modules.container.Sequential'>.\n",
      "[INFO] Register count_convNd() for <class 'torch.nn.modules.conv.ConvTranspose2d'>.\n",
      "[INFO] Register zero_ops() for <class 'torch.nn.modules.activation.ReLU'>.\n",
      "10.52171G 3.71619M\n"
     ]
    }
   ],
   "source": [
    "import torch\n",
    "from thop import profile\n",
    "from thop import clever_format\n",
    "\n",
    "\n",
    "# ViT-B, ViT-L, ViT-H 448\n",
    "input = torch.randn(1, 4, 448, 448)\n",
    "point = torch.randn(1, 2, 3)\n",
    "\n",
    "for model in [model_vitt]:\n",
    "    model.eval()\n",
    "\n",
    "    macs, params = profile(model, inputs=(input, point))\n",
    "    gflops, params = clever_format([macs*2, params], \"%.5f\")\n",
    "\n",
    "    print(gflops, params)\n",
    "\n",
    "\n",
    "vitb_backbone_params, vitb_neck_params, vitb_head_params = params_vit_tiny_448()\n",
    "model_vitb = PlainVitModel(use_disks=True, norm_radius=5, with_prev_mask=True, \n",
    "    backbone_params=vitb_backbone_params, neck_params=vitb_neck_params, \n",
    "    head_params=vitb_head_params)\n",
    "\n",
    "# ViT-B-224\n",
    "input = torch.randn(1, 4, 448, 448)\n",
    "point = torch.randn(1, 2, 3)\n",
    "\n",
    "for model in [model_vitb]:\n",
    "    model.eval()\n",
    "\n",
    "    macs, params = profile(model, inputs=(input, point))\n",
    "    gflops, params = clever_format([macs*2, params], \"%.5f\")\n",
    "\n",
    "    print(gflops, params)\n"
   ]
  }
 ],
 "metadata": {
  "kernelspec": {
   "display_name": "base",
   "language": "python",
   "name": "python3"
  },
  "language_info": {
   "codemirror_mode": {
    "name": "ipython",
    "version": 3
   },
   "file_extension": ".py",
   "mimetype": "text/x-python",
   "name": "python",
   "nbconvert_exporter": "python",
   "pygments_lexer": "ipython3",
   "version": "3.8.8"
  },
  "orig_nbformat": 4,
  "vscode": {
   "interpreter": {
    "hash": "e89c9d8a920cc6bbfac98998034c8a15ed2e75dae1678af787f4c4e38e5be518"
   }
  }
 },
 "nbformat": 4,
 "nbformat_minor": 2
}
