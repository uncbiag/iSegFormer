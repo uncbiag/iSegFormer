{
 "cells": [
  {
   "cell_type": "code",
   "execution_count": null,
   "metadata": {},
   "outputs": [
    {
     "ename": "",
     "evalue": "",
     "output_type": "error",
     "traceback": [
      "\u001b[1;31mFailed to start the Kernel. \n",
      "PermissionError: [Errno 13] Permission denied: '/home/qinliu19/.local/lib/python3.8/site-packages/ipykernel_launcher.py'. \n",
      "View Jupyter <a href='command:jupyter.viewOutput'>log</a> for further details."
     ]
    }
   ],
   "source": [
    "pip install icon_registration==0.3.3"
   ]
  },
  {
   "cell_type": "code",
   "execution_count": 3,
   "metadata": {},
   "outputs": [
    {
     "name": "stdout",
     "output_type": "stream",
     "text": [
      "Local metadata does not exists. Falling back to download.\n",
      "\u001b[?25l[####################################]  29.88M/29.88M  100%  9126260_20060921_SAG_3D_DESS_LEFT_11309302_image.nii.gz          \u001b[?25h\n",
      "\u001b[?25l[####################################]  12.06M/12.06M  100%  9126260_20060921_SAG_3D_DESS_RIGHT_11309309_image.nii.gz          \u001b[?25h\n",
      "\u001b[?25l[####################################]  29.16M/29.16M  100%  9225063_20090413_SAG_3D_DESS_RIGHT_12784112_image.nii.gz          \u001b[?25h\n",
      "\u001b[?25l[####################################]  28.98M/28.98M  100%  9400975_20090427_SAG_3D_DESS_RIGHT_12802512_image.nii.gz          \u001b[?25h\n",
      "\u001b[?25l[####################################]  32.89M/32.89M  100%  9487462_20081003_SAG_3D_DESS_RIGHT_11495603_image.nii.gz          \u001b[?25h\n",
      "\u001b[?25l[####################################]  26.92M/26.92M  100%  9712762_20090420_SAG_3D_DESS_RIGHT_12583306_image.nii.gz          \u001b[?25h\n"
     ]
    }
   ],
   "source": [
    "# Download some sample images with different sizes, directions, and pixel spacings\n",
    "!girder-client --api-url https://data.kitware.com/api/v1 localsync 61d3adf64acac99f4292ad6c ."
   ]
  },
  {
   "cell_type": "code",
   "execution_count": 4,
   "metadata": {},
   "outputs": [],
   "source": [
    "import icon_registration.itk_wrapper as itk_wrapper\n",
    "import icon_registration.pretrained_models as pretrained_models\n",
    "import itk\n",
    "import matplotlib.pyplot as plt"
   ]
  },
  {
   "cell_type": "code",
   "execution_count": 5,
   "metadata": {},
   "outputs": [
    {
     "name": "stdout",
     "output_type": "stream",
     "text": [
      "Downloading pretrained model (1.2 GB)\n"
     ]
    }
   ],
   "source": [
    "model = pretrained_models.OAI_knees_gradICON_model()"
   ]
  },
  {
   "cell_type": "code",
   "execution_count": 14,
   "metadata": {},
   "outputs": [
    {
     "name": "stdout",
     "output_type": "stream",
     "text": [
      "<class 'numpy.float32'>\n"
     ]
    },
    {
     "ename": "TypeError",
     "evalue": "can't convert np.ndarray of type numpy.uint16. The only supported types are: float64, float32, float16, complex64, complex128, int64, int32, int16, int8, uint8, and bool.",
     "output_type": "error",
     "traceback": [
      "\u001b[0;31m---------------------------------------------------------------------------\u001b[0m",
      "\u001b[0;31mTypeError\u001b[0m                                 Traceback (most recent call last)",
      "Input \u001b[0;32mIn [14]\u001b[0m, in \u001b[0;36m<module>\u001b[0;34m\u001b[0m\n\u001b[1;32m     28\u001b[0m image_b \u001b[38;5;241m=\u001b[39m itk\u001b[38;5;241m.\u001b[39mimread(test_image)\n\u001b[1;32m     29\u001b[0m \u001b[38;5;66;03m# label_b = itk.imread(test_label)\u001b[39;00m\n\u001b[0;32m---> 31\u001b[0m phi_ab, phi_ba \u001b[38;5;241m=\u001b[39m \u001b[43mitk_wrapper\u001b[49m\u001b[38;5;241;43m.\u001b[39;49m\u001b[43mregister_pair\u001b[49m\u001b[43m(\u001b[49m\u001b[43mmodel\u001b[49m\u001b[43m,\u001b[49m\u001b[43m \u001b[49m\u001b[43mimage_a\u001b[49m\u001b[43m,\u001b[49m\u001b[43m \u001b[49m\u001b[43mimage_b\u001b[49m\u001b[43m)\u001b[49m\n",
      "File \u001b[0;32m/playpen-raid/qinliu/tools/anaconda3/lib/python3.8/site-packages/icon_registration/itk_wrapper.py:24\u001b[0m, in \u001b[0;36mregister_pair\u001b[0;34m(model, image_A, image_B)\u001b[0m\n\u001b[1;32m     22\u001b[0m B_npy \u001b[38;5;241m=\u001b[39m np\u001b[38;5;241m.\u001b[39marray(image_B)\n\u001b[1;32m     23\u001b[0m A_trch \u001b[38;5;241m=\u001b[39m torch\u001b[38;5;241m.\u001b[39mTensor(A_npy)\u001b[38;5;241m.\u001b[39mto(config\u001b[38;5;241m.\u001b[39mdevice)[\u001b[38;5;28;01mNone\u001b[39;00m, \u001b[38;5;28;01mNone\u001b[39;00m]\n\u001b[0;32m---> 24\u001b[0m B_trch \u001b[38;5;241m=\u001b[39m \u001b[43mtorch\u001b[49m\u001b[38;5;241;43m.\u001b[39;49m\u001b[43mTensor\u001b[49m\u001b[43m(\u001b[49m\u001b[43mB_npy\u001b[49m\u001b[43m)\u001b[49m\u001b[38;5;241m.\u001b[39mto(config\u001b[38;5;241m.\u001b[39mdevice)[\u001b[38;5;28;01mNone\u001b[39;00m, \u001b[38;5;28;01mNone\u001b[39;00m]\n\u001b[1;32m     26\u001b[0m shape \u001b[38;5;241m=\u001b[39m model\u001b[38;5;241m.\u001b[39midentityMap\u001b[38;5;241m.\u001b[39mshape\n\u001b[1;32m     28\u001b[0m A_resized \u001b[38;5;241m=\u001b[39m F\u001b[38;5;241m.\u001b[39minterpolate(A_trch, size\u001b[38;5;241m=\u001b[39mshape[\u001b[38;5;241m2\u001b[39m:], mode\u001b[38;5;241m=\u001b[39m\u001b[38;5;124m\"\u001b[39m\u001b[38;5;124mtrilinear\u001b[39m\u001b[38;5;124m\"\u001b[39m, align_corners\u001b[38;5;241m=\u001b[39m\u001b[38;5;28;01mFalse\u001b[39;00m)\n",
      "\u001b[0;31mTypeError\u001b[0m: can't convert np.ndarray of type numpy.uint16. The only supported types are: float64, float32, float16, complex64, complex128, int64, int32, int16, int8, uint8, and bool."
     ]
    }
   ],
   "source": [
    "import os\n",
    "import SimpleITK as sitk\n",
    "import numpy as np\n",
    "\n",
    "train_folder = '/playpen-raid2/qinliu/data/OAI-ZIB/train_volumes'\n",
    "train_image = os.path.join(train_folder, '9486952_image.nii.gz')\n",
    "train_label = os.path.join(train_folder, '9486952_label.nii.gz')\n",
    "\n",
    "test_folder = '/playpen-raid2/qinliu/data/OAI-ZIB/test_volumes'\n",
    "test_image = os.path.join(test_folder, '9933836_image.nii.gz')\n",
    "test_label = os.path.join(test_folder, '9933836_label.nii.gz')\n",
    "\n",
    "image_a = itk.imread(train_image)\n",
    "image_a = image_a.astype(np.float32)\n",
    "\n",
    "# image_a = \n",
    "# image_a_sitk = sitk.ReadImage(train_image)\n",
    "\n",
    "# image_a_npy = sitk.GetArrayFromImage(image_a_sitk)\n",
    "# image_a = itk.cast\n",
    "\n",
    "# print(image_a_npy.dtype)\n",
    "# label_a = itk.imread(train_label)\n",
    "\n",
    "# print(label_a.dtype)\n",
    "\n",
    "image_b = itk.imread(test_image)\n",
    "image_b = image_b.astype(np.float32)\n",
    "# label_b = itk.imread(test_label)\n",
    "\n",
    "phi_ab, phi_ba = itk_wrapper.register_pair(model, image_a, image_b)\n"
   ]
  },
  {
   "cell_type": "code",
   "execution_count": null,
   "metadata": {},
   "outputs": [],
   "source": []
  }
 ],
 "metadata": {
  "interpreter": {
   "hash": "e89c9d8a920cc6bbfac98998034c8a15ed2e75dae1678af787f4c4e38e5be518"
  },
  "kernelspec": {
   "display_name": "Python 3.8.8 ('base')",
   "language": "python",
   "name": "python3"
  },
  "language_info": {
   "codemirror_mode": {
    "name": "ipython",
    "version": 3
   },
   "file_extension": ".py",
   "mimetype": "text/x-python",
   "name": "python",
   "nbconvert_exporter": "python",
   "pygments_lexer": "ipython3",
   "version": "3.8.8"
  },
  "orig_nbformat": 4
 },
 "nbformat": 4,
 "nbformat_minor": 2
}
